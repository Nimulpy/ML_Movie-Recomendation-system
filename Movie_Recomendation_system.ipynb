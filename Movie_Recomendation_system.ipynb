{
  "nbformat": 4,
  "nbformat_minor": 0,
  "metadata": {
    "colab": {
      "provenance": []
    },
    "kernelspec": {
      "name": "python3",
      "display_name": "Python 3"
    },
    "language_info": {
      "name": "python"
    },
    "accelerator": "GPU",
    "gpuClass": "standard"
  },
  "cells": [
    {
      "cell_type": "markdown",
      "source": [
        "#CODE:"
      ],
      "metadata": {
        "id": "ES24jFh5Kh--"
      }
    },
    {
      "cell_type": "markdown",
      "source": [
        "#Movie Recomendation system"
      ],
      "metadata": {
        "id": "jtA11j1Y-NYP"
      }
    },
    {
      "cell_type": "markdown",
      "source": [
        "Necessary import Functions"
      ],
      "metadata": {
        "id": "vTEJ4QCY-Wqe"
      }
    },
    {
      "cell_type": "code",
      "source": [
        "import numpy as np\n",
        "import pandas as pd\n",
        "import matplotlib.pyplot as plt"
      ],
      "metadata": {
        "id": "-lzMrz2gIV_8"
      },
      "execution_count": null,
      "outputs": []
    },
    {
      "cell_type": "markdown",
      "source": [
        " Loading the data from google drive"
      ],
      "metadata": {
        "id": "lfR5yX0F-gUu"
      }
    },
    {
      "cell_type": "code",
      "source": [
        "\n",
        "ratings_df = pd.read_csv('/content/drive/MyDrive/ratings.csv')\n",
        "tags_df = pd.read_csv('/content/drive/MyDrive/tags.csv')\n",
        "movies_df = pd.read_csv('/content/drive/MyDrive/movies.csv')\n",
        "links_df = pd.read_csv('/content/drive/MyDrive/links.csv')"
      ],
      "metadata": {
        "id": "PE6XQSFeIWK7"
      },
      "execution_count": null,
      "outputs": []
    },
    {
      "cell_type": "markdown",
      "source": [
        "\n",
        "**Converting the input data to numpy arrays**\n",
        "\n"
      ],
      "metadata": {
        "id": "UJdjpR14-suu"
      }
    },
    {
      "cell_type": "code",
      "source": [
        "\n",
        "num_users = ratings_df['userId'].nunique()\n",
        "num_movies = ratings_df['movieId'].nunique()\n",
        "num_features = 15"
      ],
      "metadata": {
        "id": "ntDu9pAQIWNT"
      },
      "execution_count": null,
      "outputs": []
    },
    {
      "cell_type": "markdown",
      "source": [
        "**Creation of  helper matrix where each entry is 1 if the corresponding entry in the ratings matrix is greater than 0, and 0 otherwise.**"
      ],
      "metadata": {
        "id": "HoGPo1WY_Ueu"
      }
    },
    {
      "cell_type": "code",
      "source": [
        "movies = movies_df.iloc[:, 2:].to_numpy()\n",
        "ratings = ratings_df.pivot(index='userId', columns='movieId', values='rating').fillna(0).to_numpy()\n",
        "tags = tags_df.iloc[:, 2:].to_numpy()\n",
        "links = links_df.iloc[:, 2:].to_numpy()\n",
        "helper = (ratings > 0).astype(int)"
      ],
      "metadata": {
        "id": "5uHEHnV7IWPT"
      },
      "execution_count": null,
      "outputs": []
    },
    {
      "cell_type": "markdown",
      "source": [
        " Initializing the necessary parameters"
      ],
      "metadata": {
        "id": "j-T4hYpf_g62"
      }
    },
    {
      "cell_type": "code",
      "source": [
        "\n",
        "learning_rate = 0.0001\n",
        "num_iterations = 200\n",
        "lambda_reg = 0.005"
      ],
      "metadata": {
        "id": "pkCEHlXJIWRV"
      },
      "execution_count": null,
      "outputs": []
    },
    {
      "cell_type": "markdown",
      "source": [
        "This code initializes two numpy arrays X and Theta with random values.'-0.5' is then subtracted from each entry of the rand array. This shifts the range of random values from the half-open interval [0, 1) to the half-open interval [-0.5, 0.5)."
      ],
      "metadata": {
        "id": "16EHGN1SB8NN"
      }
    },
    {
      "cell_type": "code",
      "source": [
        "\n",
        "X = np.random.rand(num_users, num_features)-0.5\n",
        "Theta = np.random.rand(num_movies, num_features)-0.5"
      ],
      "metadata": {
        "id": "_Di5VK0uIWTT"
      },
      "execution_count": null,
      "outputs": []
    },
    {
      "cell_type": "markdown",
      "source": [
        "A function called predict_ratings that takes in three arguments"
      ],
      "metadata": {
        "id": "2eNfbbl5CRMm"
      }
    },
    {
      "cell_type": "code",
      "source": [
        "def predict_ratings(X, Theta, user_id):\n",
        "\n",
        "    predicted_ratings = np.dot(X[user_id], Theta.T)\n",
        "    return predicted_ratings"
      ],
      "metadata": {
        "id": "TADzCFCWNUvR"
      },
      "execution_count": null,
      "outputs": []
    },
    {
      "cell_type": "markdown",
      "source": [
        "Display of the predicted ratings"
      ],
      "metadata": {
        "id": "KlpE1HIIwxvH"
      }
    },
    {
      "cell_type": "code",
      "source": [
        "\n",
        "user_id = 12\n",
        "\n",
        "predicted_ratings = predict_ratings(X, Theta, user_id)\n",
        "\n",
        "print(\"Predicted ratings for user\", user_id, \":\", predicted_ratings)"
      ],
      "metadata": {
        "colab": {
          "base_uri": "https://localhost:8080/"
        },
        "id": "nsKkoh3rN4ZR",
        "outputId": "1c5041de-14da-40cd-eabd-1c16e9144492"
      },
      "execution_count": null,
      "outputs": [
        {
          "output_type": "stream",
          "name": "stdout",
          "text": [
            "Predicted ratings for user 12 : [ 0.00277353 -0.41254612  0.28090663 ...  0.38783621 -0.33859565\n",
            "  0.04683457]\n"
          ]
        }
      ]
    },
    {
      "cell_type": "markdown",
      "source": [
        " Get movie recommendations for a given user based on their ratings history"
      ],
      "metadata": {
        "id": "LJEP53ENxGgu"
      }
    },
    {
      "cell_type": "code",
      "source": [
        "def get_recommendations(user_id, num_recommendations=5):\n",
        "\n",
        "\n",
        "\n",
        "    user_ratings = ratings_df[ratings_df['userId'] == user_id]\n",
        "\n",
        "\n",
        "    movie_ratings = user_ratings.groupby('movieId').mean()['rating']\n",
        "\n",
        "\n",
        "    top_movies = movie_ratings.sort_values(ascending=False).index.tolist()\n",
        "\n",
        "    return top_movies[:num_recommendations]"
      ],
      "metadata": {
        "id": "5pch1vRqvllO"
      },
      "execution_count": null,
      "outputs": []
    },
    {
      "cell_type": "code",
      "source": [
        "import re"
      ],
      "metadata": {
        "id": "3bdeoYeMxjYz"
      },
      "execution_count": null,
      "outputs": []
    },
    {
      "cell_type": "code",
      "source": [
        "\n",
        "movies_df['imdbId'] = \"\"\n",
        "movies_df['tmdbId'] = \"\"\n",
        "movies_df['tag'] = \"\"\n",
        "\n",
        "\n",
        "for i, movie in movies_df.iterrows():\n",
        "\n",
        "    imdb_id = re.search('tt(\\d{7})', movie['imdbId'])\n",
        "    tmdb_id = re.search('/movie/(\\d+)', movie['tmdbId'])\n",
        "\n",
        "\n",
        "    if imdb_id:\n",
        "        movies_df.at[i, 'imdbId'] = imdb_id.group(1)\n",
        "    if tmdb_id:\n",
        "        movies_df.at[i, 'tmdbId'] = tmdb_id.group(1)\n",
        "\n",
        "\n",
        "    tags = tags_df.loc[tags_df['movieId'] == movie['movieId']]['tag'].values.tolist()\n",
        "    if tags:\n",
        "        movies_df.at[i, 'tag'] = tags[0]"
      ],
      "metadata": {
        "id": "SGu7NLK_xaX0"
      },
      "execution_count": null,
      "outputs": []
    },
    {
      "cell_type": "markdown",
      "source": [
        " Top 10 movie recommendations for user_id"
      ],
      "metadata": {
        "id": "SvI7sCtyxR97"
      }
    },
    {
      "cell_type": "code",
      "source": [
        "\n",
        "movie_ids = get_recommendations(user_id, num_recommendations=10)\n",
        "\n",
        "\n",
        "top_movies = movies_df.loc[movies_df['movieId'].isin(movie_ids[:10])][['title', 'imdbId', 'tmdbId', 'tag']].values.tolist()\n",
        "for i, movie in enumerate(top_movies):\n",
        "    title, imdb_id, tmdb_id, tag = movie\n",
        "    imdb_link = f\"http://www.imdb.com/title/tt{imdb_id:0>7}\"\n",
        "    if tmdb_id != '':\n",
        "        tmdb_link = f\"https://www.themoviedb.org/movie/{int(tmdb_id)}\"\n",
        "    else:\n",
        "        tmdb_link = ''\n",
        "    tag_list = tags_df.loc[tags_df['movieId'] == int(movie_ids[i])]['tag'].values.tolist()\n",
        "    print(f\"{i+1}. {title} ({imdb_link}, {tmdb_link})\\n    tags: {', '.join(tag_list)}\")"
      ],
      "metadata": {
        "colab": {
          "base_uri": "https://localhost:8080/"
        },
        "id": "CGsw6flj05Z8",
        "outputId": "8652c26b-6ad2-4120-f497-9046c30d0255"
      },
      "execution_count": null,
      "outputs": [
        {
          "output_type": "stream",
          "name": "stdout",
          "text": [
            "1. Shine (1996) (http://www.imdb.com/title/tt0000000, )\n",
            "    tags: \n",
            "2. 'burbs, The (1989) (http://www.imdb.com/title/tt0000000, )\n",
            "    tags: music\n",
            "3. She's All That (1999) (http://www.imdb.com/title/tt0000000, )\n",
            "    tags: In Netflix queue\n",
            "4. 10 Things I Hate About You (1999) (http://www.imdb.com/title/tt0000000, )\n",
            "    tags: memory loss, romance, sad\n",
            "5. Never Been Kissed (1999) (http://www.imdb.com/title/tt0000000, )\n",
            "    tags: \n",
            "6. Ghostbusters II (1989) (http://www.imdb.com/title/tt0000000, )\n",
            "    tags: \n",
            "7. Romeo and Juliet (1968) (http://www.imdb.com/title/tt0000000, )\n",
            "    tags: Ghosts\n",
            "8. Love Actually (2003) (http://www.imdb.com/title/tt0000000, )\n",
            "    tags: high school\n",
            "9. Notebook, The (2004) (http://www.imdb.com/title/tt0000000, )\n",
            "    tags: Shakespeare sort of\n",
            "10. Pride & Prejudice (2005) (http://www.imdb.com/title/tt0000000, )\n",
            "    tags: \n"
          ]
        }
      ]
    },
    {
      "cell_type": "markdown",
      "source": [
        "Gradient descent Method to calculate loss"
      ],
      "metadata": {
        "id": "uqXhhYQlD7Ur"
      }
    },
    {
      "cell_type": "code",
      "source": [
        "\n",
        "J_history = np.zeros(num_iterations)\n",
        "for i in range(num_iterations):\n",
        "    X_grad = np.dot((helper * np.dot(X, Theta.T) - helper * ratings), Theta) + lambda_reg * X\n",
        "    Theta_grad = np.dot((helper * np.dot(X, Theta.T) - helper * ratings).T, X) + lambda_reg * Theta\n",
        "    X = X - learning_rate * X_grad\n",
        "    Theta = Theta - learning_rate * Theta_grad\n",
        "\n",
        "    # Computation of  loss\n",
        "    J = np.sum(helper * np.square(np.dot(X, Theta.T) - ratings)) + (lambda_reg / 2) * (np.sum(np.square(X)) + np.sum(np.square(Theta)))\n",
        "    J_history[i] = J\n",
        "\n"
      ],
      "metadata": {
        "id": "7qpnqjhPKz2L"
      },
      "execution_count": null,
      "outputs": []
    },
    {
      "cell_type": "markdown",
      "source": [
        " Ploting of loss function with number of iterations"
      ],
      "metadata": {
        "id": "ySV4dY-XECGN"
      }
    },
    {
      "cell_type": "code",
      "source": [
        "\n",
        "plt.plot(np.arange(num_iterations), J_history.reshape(num_iterations, 1))\n",
        "plt.xlabel('iterations')\n",
        "plt.ylabel('Loss')\n",
        "plt.title('Loss function vs  iterations')\n",
        "plt.show()"
      ],
      "metadata": {
        "colab": {
          "base_uri": "https://localhost:8080/",
          "height": 472
        },
        "id": "rKLshCTiSgKI",
        "outputId": "624d8c9e-269a-45ec-df74-e1ad2d033de0"
      },
      "execution_count": null,
      "outputs": [
        {
          "output_type": "display_data",
          "data": {
            "text/plain": [
              "<Figure size 640x480 with 1 Axes>"
            ],
            "image/png": "[encoded data removed]"
          },
          "metadata": {}
        }
      ]
    },
    {
      "cell_type": "markdown",
      "source": [
        "# Ploting  of loss values versus feature dimension 𝑛 for a constant number of iterations"
      ],
      "metadata": {
        "id": "v1k36bwl41TX"
      }
    },
    {
      "cell_type": "code",
      "source": [
        "import pandas as pd\n",
        "import numpy as np\n",
        "from sklearn.model_selection import train_test_split\n",
        "import matplotlib.pyplot as plt\n"
      ],
      "metadata": {
        "id": "6zd5axKgvD3D"
      },
      "execution_count": null,
      "outputs": []
    },
    {
      "cell_type": "code",
      "source": [
        "def loss_function(X, Theta, Y):\n",
        "    a= np.dot(X, Theta.T)-Y\n",
        "    a=a*R\n",
        "    a= np.linalg.norm(a)\n",
        "    l= np.square(a)\n",
        "    r1 = (lambda_reg / 2) * (np.square(np.linalg.norm(X)))\n",
        "    r2= (lambda_reg / 2) * (np.square(np.linalg.norm(Theta)))\n",
        "    J = l + r1 + r2\n",
        "    return J\n"
      ],
      "metadata": {
        "id": "Gy4eH97JvGqR"
      },
      "execution_count": null,
      "outputs": []
    },
    {
      "cell_type": "markdown",
      "source": [
        "Loading The data"
      ],
      "metadata": {
        "id": "voGY1vvsxa_L"
      }
    },
    {
      "cell_type": "code",
      "source": [
        "\n",
        "ratings = pd.read_csv('/content/drive/MyDrive/ratings.csv')\n",
        "movies = pd.read_csv('/content/drive/MyDrive/movies.csv')\n",
        "tags = pd.read_csv('/content/drive/MyDrive/tags.csv')\n",
        "links = pd.read_csv('/content/drive/MyDrive/links.csv')\n",
        "\n",
        "movie_ratings = ratings.drop('timestamp', axis = 1)\n",
        "ratings_matrix= movie_ratings.pivot_table(index=['movieId'], columns=['userId'], values='rating').fillna(0)\n",
        "Y = ratings_matrix.to_numpy()\n",
        "Y_train, Y_test = train_test_split(Y, test_size = 0.2)"
      ],
      "metadata": {
        "id": "JQRFL7YuvGn6"
      },
      "execution_count": null,
      "outputs": []
    },
    {
      "cell_type": "markdown",
      "source": [
        "Initializing user and movie features"
      ],
      "metadata": {
        "id": "WSCtKHrpxfOu"
      }
    },
    {
      "cell_type": "code",
      "source": [
        "\n",
        "nm = Y.shape[0]\n",
        "nu = Y.shape[1]\n",
        "R = np.zeros((nm, nu))\n",
        "for i in range(nm):\n",
        "    for j in range(nu):\n",
        "        if Y[i, j] > 0:\n",
        "            R[i, j] = 1\n"
      ],
      "metadata": {
        "id": "85gJ8PMGvGlK"
      },
      "execution_count": null,
      "outputs": []
    },
    {
      "cell_type": "markdown",
      "source": [
        "Initialization of  parameters"
      ],
      "metadata": {
        "id": "VoQCkIpGxjJm"
      }
    },
    {
      "cell_type": "code",
      "source": [
        "\n",
        "learning_rate = 0.001\n",
        "num_iterations = 200\n",
        "lambda_reg = 0.001\n"
      ],
      "metadata": {
        "id": "JpmuWJNivGii"
      },
      "execution_count": null,
      "outputs": []
    },
    {
      "cell_type": "code",
      "source": [
        "n=10\n",
        "feature = list()\n",
        "loss = list()\n"
      ],
      "metadata": {
        "id": "LUGzUwvjvGfx"
      },
      "execution_count": null,
      "outputs": []
    },
    {
      "cell_type": "code",
      "source": [
        "for itr in range(n):\n",
        "    feature.append(itr+1)\n",
        "    X = np.random.rand(nm, itr+1) - 0.5\n",
        "    Theta = np.random.rand(nu, itr+1) - 0.5\n",
        "    for i in range(num_iterations):\n",
        "        X_grad = np.dot((np.dot(X, Theta.T) - Y), Theta) + lambda_reg * X\n",
        "        Theta_grad = np.dot((np.dot(X, Theta.T) - Y).T, X) + lambda_reg * Theta\n",
        "        X = X - learning_rate * X_grad\n",
        "        Theta = Theta - learning_rate * Theta_grad\n",
        "    current_loss = loss_function(X, Theta, Y)\n",
        "    loss.append(current_loss)\n"
      ],
      "metadata": {
        "id": "Db-WUaL6vGdK"
      },
      "execution_count": null,
      "outputs": []
    },
    {
      "cell_type": "markdown",
      "source": [
        "# Plot loss function with number of iterations"
      ],
      "metadata": {
        "id": "D05MUDYUxukj"
      }
    },
    {
      "cell_type": "code",
      "source": [
        "\n",
        "plt.plot(feature,loss)\n",
        "plt.xlabel(' Features')\n",
        "plt.ylabel('Loss')\n",
        "plt.title('Loss function vs features')"
      ],
      "metadata": {
        "colab": {
          "base_uri": "https://localhost:8080/",
          "height": 489
        },
        "id": "ZVaK-qF1vGaZ",
        "outputId": "6c8f3765-d4c4-4c49-c3ee-297c905e2053"
      },
      "execution_count": null,
      "outputs": [
        {
          "output_type": "execute_result",
          "data": {
            "text/plain": [
              "Text(0.5, 1.0, 'Loss function vs features')"
            ]
          },
          "metadata": {},
          "execution_count": 134
        },
        {
          "output_type": "display_data",
          "data": {
            "text/plain": [
              "<Figure size 640x480 with 1 Axes>"
            ],
            "image/png": "[encoded data removed]"
          },
          "metadata": {}
        }
      ]
    },
    {
      "cell_type": "markdown",
      "source": [
        "#Plot 2: Loss values vs feature dimensions"
      ],
      "metadata": {
        "id": "vnds_vnqJYes"
      }
    },
    {
      "cell_type": "markdown",
      "source": [
        "#Discussion:\n",
        "\n",
        "---\n",
        "\n",
        "\n",
        "Movie recommendation system predicts movies for a certain user based on these previous ratings on various other movies. In this project collaborating Filtering Algorithm was used. Collaborative filtering necessitates a group of things based on the user's previous choices. This system does not require a large number of product characteristics to function. An embedding or feature vector characterizes each object and User, sinking both in a comparable embedding position. It automatically generates enclosures for items and users. A cut down version of movie lens data set was used .All the data files were uploaded from google drive. Number of feature was selected to be 15 and helper matrix defined by “helper” was created to fill in the gaps in the matrix containing num_users  & num_movies values . The feature vectors  X and Theta was initialized randomly . The loss was calculated via gradient descent method and regularization parameter lamda_reg was used to prevent overfitting. Finally a “get_recomendations” function was created to recommend at least 10 movies for a specified user with movie links. Now in the case of  Plot of loss values versus iterations named plot 1 it is evident that loss decreases with number of iterations. In the case of the second graph named plot 2 the loss also decreases with increasing feature dimension."
      ],
      "metadata": {
        "id": "kJ2jIZlaD9WQ"
      }
    }
  ]
}